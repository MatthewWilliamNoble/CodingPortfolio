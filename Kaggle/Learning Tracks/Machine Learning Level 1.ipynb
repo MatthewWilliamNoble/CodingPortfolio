{
 "cells": [
  {
   "cell_type": "markdown",
   "metadata": {
    "_cell_guid": "e81ee64d-e474-4662-9036-ce23df615199",
    "_uuid": "b6269c0e8f417f82daf093dda8fa0da6d2c57d86"
   },
   "source": [
    "# Introduction\n**This will be your workspace for Kaggle's Machine Learning education track.**\n\nYou will build and continually improve a model to predict housing prices as you work through each tutorial.  Fork this notebook and write your code in it.\n\nThe data from the tutorial, the Melbourne data, is not available in this workspace.  You will need to translate the concepts to work with the data in this notebook, the Iowa data.\n\nCome to the [Learn Discussion](https://www.kaggle.com/learn-forum) forum for any questions or comments. \n\n**Write Your Code Below ... **\n\n"
   ]
  },
  {
   "cell_type": "markdown",
   "metadata": {
    "_uuid": "91ff31fef128d523681d38dbbae888c7edb17d0f"
   },
   "source": [
    "# Level 1-2: Starting Your ML Project\n\n## Your Turn\n\n**Remember, the notebook you want to \"fork\" is [here](https://www.kaggle.com/dansbecker/my-first-machine-learning-model/).**\n\nRun the equivalent commands (to read the data and print the summary) in the code cell below. The file path for your data is already shown in your coding notebook. Look at the mean, minimum and maximum values for the first few fields. Are any of the values so crazy that it makes you think you've misinterpreted the data?\n\nThere are a lot of fields in this data. You don't need to look at it all quite yet.\n\nWhen your code is correct, you'll see the size, in square feet, of the smallest lot in your dataset. This is from the **min** value of **LotArea**, and you can see the **max** size too. You should notice that it's a big range of lot sizes!\n\nYou'll also see some columns filled with `....` That indicates that we had too many columns of data to print, so the middle ones were omitted from printing.\n\nWe'll take care of both issues in the next step."
   ]
  },
  {
   "cell_type": "code",
   "execution_count": 57,
   "metadata": {
    "_cell_guid": "86b26423-563a-4fa1-a595-89e25ff93089",
    "_uuid": "1c728098629e1301643443b1341556a15c089b2b",
    "trusted": true
   },
   "outputs": [
    {
     "name": "stdout",
     "output_type": "stream",
     "text": [
      "                Id   MSSubClass  LotFrontage        LotArea  OverallQual  \\\ncount  1460.000000  1460.000000  1201.000000    1460.000000  1460.000000   \nmean    730.500000    56.897260    70.049958   10516.828082     6.099315   \nstd     421.610009    42.300571    24.284752    9981.264932     1.382997   \nmin       1.000000    20.000000    21.000000    1300.000000     1.000000   \n25%     365.750000    20.000000    59.000000    7553.500000     5.000000   \n50%     730.500000    50.000000    69.000000    9478.500000     6.000000   \n75%    1095.250000    70.000000    80.000000   11601.500000     7.000000   \nmax    1460.000000   190.000000   313.000000  215245.000000    10.000000   \n\n       OverallCond    YearBuilt  YearRemodAdd   MasVnrArea   BsmtFinSF1  \\\ncount  1460.000000  1460.000000   1460.000000  1452.000000  1460.000000   \nmean      5.575342  1971.267808   1984.865753   103.685262   443.639726   \nstd       1.112799    30.202904     20.645407   181.066207   456.098091   \nmin       1.000000  1872.000000   1950.000000     0.000000     0.000000   \n25%       5.000000  1954.000000   1967.000000     0.000000     0.000000   \n50%       5.000000  1973.000000   1994.000000     0.000000   383.500000   \n75%       6.000000  2000.000000   2004.000000   166.000000   712.250000   \nmax       9.000000  2010.000000   2010.000000  1600.000000  5644.000000   \n\n           ...         WoodDeckSF  OpenPorchSF  EnclosedPorch    3SsnPorch  \\\ncount      ...        1460.000000  1460.000000    1460.000000  1460.000000   \nmean       ...          94.244521    46.660274      21.954110     3.409589   \nstd        ...         125.338794    66.256028      61.119149    29.317331   \nmin        ...           0.000000     0.000000       0.000000     0.000000   \n25%        ...           0.000000     0.000000       0.000000     0.000000   \n50%        ...           0.000000    25.000000       0.000000     0.000000   \n75%        ...         168.000000    68.000000       0.000000     0.000000   \nmax        ...         857.000000   547.000000     552.000000   508.000000   \n\n       ScreenPorch     PoolArea       MiscVal       MoSold       YrSold  \\\ncount  1460.000000  1460.000000   1460.000000  1460.000000  1460.000000   \nmean     15.060959     2.758904     43.489041     6.321918  2007.815753   \nstd      55.757415    40.177307    496.123024     2.703626     1.328095   \nmin       0.000000     0.000000      0.000000     1.000000  2006.000000   \n25%       0.000000     0.000000      0.000000     5.000000  2007.000000   \n50%       0.000000     0.000000      0.000000     6.000000  2008.000000   \n75%       0.000000     0.000000      0.000000     8.000000  2009.000000   \nmax     480.000000   738.000000  15500.000000    12.000000  2010.000000   \n\n           SalePrice  \ncount    1460.000000  \nmean   180921.195890  \nstd     79442.502883  \nmin     34900.000000  \n25%    129975.000000  \n50%    163000.000000  \n75%    214000.000000  \nmax    755000.000000  \n\n[8 rows x 38 columns]\n"
     ]
    }
   ],
   "source": [
    "# Import relevant libraries and dependencies\n",
    "import pandas as pd\n",
    "\n",
    "# save filepath to variable for easier access\n",
    "main_file_path = '../input/train.csv'\n",
    "\n",
    "# read the data and store data in DataFrame titled df\n",
    "df = pd.read_csv(main_file_path)\n",
    "\n",
    "# print a summary of the data\n",
    "print(df.describe())"
   ]
  },
  {
   "cell_type": "markdown",
   "metadata": {
    "_uuid": "3ccccfe5f12037ad399c87224be5093b482af011"
   },
   "source": [
    "# Level 1-3: Selecting and Filtering in Pandas\n\n## Your Turn\n\nIn the notebook with your code:\n\n1. Print a list of the columns\n2. From the list of columns, find a name of the column with the sales prices of the homes. Use the dot notation to extract this to a variable (as you saw above to create melbourne_price_data.)\n3. Use the head command to print out the top few lines of the variable you just created.\n4. Pick any two variables and store them to a new DataFrame (as you saw above to create two_columns_of_data.)\n5. Use the describe command with the DataFrame you just created to see summaries of those variables. "
   ]
  },
  {
   "cell_type": "code",
   "execution_count": 58,
   "metadata": {
    "trusted": true,
    "_uuid": "dd2b95b92b0467942f35b9c5282a74cd8ee58aa3"
   },
   "outputs": [
    {
     "name": "stdout",
     "output_type": "stream",
     "text": [
      "Index(['Id', 'MSSubClass', 'MSZoning', 'LotFrontage', 'LotArea', 'Street',\n       'Alley', 'LotShape', 'LandContour', 'Utilities', 'LotConfig',\n       'LandSlope', 'Neighborhood', 'Condition1', 'Condition2', 'BldgType',\n       'HouseStyle', 'OverallQual', 'OverallCond', 'YearBuilt', 'YearRemodAdd',\n       'RoofStyle', 'RoofMatl', 'Exterior1st', 'Exterior2nd', 'MasVnrType',\n       'MasVnrArea', 'ExterQual', 'ExterCond', 'Foundation', 'BsmtQual',\n       'BsmtCond', 'BsmtExposure', 'BsmtFinType1', 'BsmtFinSF1',\n       'BsmtFinType2', 'BsmtFinSF2', 'BsmtUnfSF', 'TotalBsmtSF', 'Heating',\n       'HeatingQC', 'CentralAir', 'Electrical', '1stFlrSF', '2ndFlrSF',\n       'LowQualFinSF', 'GrLivArea', 'BsmtFullBath', 'BsmtHalfBath', 'FullBath',\n       'HalfBath', 'BedroomAbvGr', 'KitchenAbvGr', 'KitchenQual',\n       'TotRmsAbvGrd', 'Functional', 'Fireplaces', 'FireplaceQu', 'GarageType',\n       'GarageYrBlt', 'GarageFinish', 'GarageCars', 'GarageArea', 'GarageQual',\n       'GarageCond', 'PavedDrive', 'WoodDeckSF', 'OpenPorchSF',\n       'EnclosedPorch', '3SsnPorch', 'ScreenPorch', 'PoolArea', 'PoolQC',\n       'Fence', 'MiscFeature', 'MiscVal', 'MoSold', 'YrSold', 'SaleType',\n       'SaleCondition', 'SalePrice'],\n      dtype='object')\n"
     ]
    }
   ],
   "source": [
    "# Print a list of the columns\n",
    "print(df.columns)"
   ]
  },
  {
   "cell_type": "code",
   "execution_count": 59,
   "metadata": {
    "trusted": true,
    "_uuid": "c24c9ab23b5dc8154eef4439965283580a1dc6d1"
   },
   "outputs": [
    {
     "name": "stdout",
     "output_type": "stream",
     "text": [
      "0    208500\n1    181500\n2    223500\n3    140000\n4    250000\nName: SalePrice, dtype: int64\n"
     ]
    }
   ],
   "source": [
    "# Extract the sales price using dot notation\n",
    "price_data = df.SalePrice\n",
    "\n",
    "# Display the head of the variable\n",
    "print(price_data.head(5))"
   ]
  },
  {
   "cell_type": "code",
   "execution_count": 60,
   "metadata": {
    "trusted": true,
    "_uuid": "530238594fd056d5b25c553b0487c090cad905da"
   },
   "outputs": [
    {
     "name": "stdout",
     "output_type": "stream",
     "text": [
      "            YrSold\ncount  1460.000000\nmean   2007.815753\nstd       1.328095\nmin    2006.000000\n25%    2007.000000\n50%    2008.000000\n75%    2009.000000\nmax    2010.000000\n"
     ]
    }
   ],
   "source": [
    "# Creation of two columns of data\n",
    "columns_of_interest = [\"YrSold\", \"RoofStyle\"]\n",
    "\n",
    "# Describe the two columns\n",
    "print(df[columns_of_interest].describe())"
   ]
  },
  {
   "cell_type": "markdown",
   "metadata": {
    "_uuid": "ab6556f6d8c431af9213873b9a390a8e1b14a055"
   },
   "source": [
    "# Level 1-4: Your First Scikit-Learn Model\n\n## Your Turn\n\nNow it's time for you to define and fit a model for your data (in your notebook).\n\n1. Select the target variable you want to predict. You can go back to the list of columns from your earlier commands to recall what it's called (hint: you've already worked with this variable). Save this to a new variable called y.\n2. Create a **list** of the names of the predictors we will use in the initial model. Use just the following columns in the list (you can copy and paste the whole list to save some typing, though you'll still need to add quotes):\n * LotArea\n * YearBuilt\n * 1stFlrSF\n * 2ndFlrSF\n * FullBath\n * BedroomAbvGr\n * TotRmsAbvGrd\n3. Using the list of variable names you just created, select a new DataFrame of the predictors data. Save this with the variable name X.\n4. Create a DecisionTreeRegressorModel and save it to a variable (with a name like my_model or iowa_model). Ensure you've done the relevant import so you can run this command.\n5. Fit the model you have created using the data in X and the target data you saved above.\n6. Make a few predictions with the model's predict command and print out the predictions."
   ]
  },
  {
   "cell_type": "code",
   "execution_count": 61,
   "metadata": {
    "trusted": true,
    "_uuid": "a35ee9e64ea6edee66979639cd0f7434dcc01c83"
   },
   "outputs": [
    {
     "data": {
      "text/plain": [
       "DecisionTreeRegressor(criterion='mse', max_depth=None, max_features=None,\n           max_leaf_nodes=None, min_impurity_decrease=0.0,\n           min_impurity_split=None, min_samples_leaf=1,\n           min_samples_split=2, min_weight_fraction_leaf=0.0,\n           presort=False, random_state=None, splitter='best')"
      ]
     },
     "execution_count": 61,
     "metadata": {},
     "output_type": "execute_result"
    }
   ],
   "source": [
    "# Select target variable to be predicted\n",
    "y = df[\"SalePrice\"]\n",
    "\n",
    "# Select predictors\n",
    "list_of_predictors = ['LotArea', 'YearBuilt', '1stFlrSF', '2ndFlrSF', 'FullBath', 'BedroomAbvGr', 'TotRmsAbvGrd']\n",
    "\n",
    "# Create a predictors dataFrame\n",
    "X = df[list_of_predictors]\n",
    "\n",
    "# Import the decision tree\n",
    "from sklearn.tree import DecisionTreeRegressor\n",
    "\n",
    "# Define the model\n",
    "iowa_model = DecisionTreeRegressor()\n",
    "\n",
    "# Fit the model\n",
    "iowa_model.fit(X, y)"
   ]
  },
  {
   "cell_type": "code",
   "execution_count": 62,
   "metadata": {
    "trusted": true,
    "_uuid": "d7c6617b2cb54872db51e29a8973f2dc89e82677"
   },
   "outputs": [
    {
     "name": "stdout",
     "output_type": "stream",
     "text": [
      "\nMaking predictions for the following 5 houses:\n   LotArea  YearBuilt  1stFlrSF  2ndFlrSF  FullBath  BedroomAbvGr  \\\n0     8450       2003       856       854         2             3   \n1     9600       1976      1262         0         2             3   \n2    11250       2001       920       866         2             3   \n3     9550       1915       961       756         1             3   \n4    14260       2000      1145      1053         2             4   \n\n   TotRmsAbvGrd  \n0             8  \n1             6  \n2             6  \n3             7  \n4             9  \n\nThe predictions are\n[208500. 181500. 223500. 140000. 250000.]\n\nCompared to their real values:\n0    208500\n1    181500\n2    223500\n3    140000\n4    250000\nName: SalePrice, dtype: int64\n"
     ]
    }
   ],
   "source": [
    "# Making a few predictions ...\n",
    "print(\"\\n\" + \"Making predictions for the following 5 houses:\")\n",
    "print(X.head())\n",
    "\n",
    "print(\"\\n\" + \"The predictions are\")\n",
    "print(iowa_model.predict(X.head()))\n",
    "\n",
    "print(\"\\n\" + \"Compared to their real values:\")\n",
    "print(y.head())"
   ]
  },
  {
   "cell_type": "markdown",
   "metadata": {
    "_uuid": "606bdd259fb7f0f108ca6a722dcdb61aeff99293"
   },
   "source": [
    "# Level 1-5: Model Validation\n\n## Your Turn\n\n1. Use the train_test_split command to split up your data.\n2. Fit the model with the training data\n3. Make predictions with the validation predictors\n4. Calculate the mean absolute error between your predictions and the actual target values for the validation data."
   ]
  },
  {
   "cell_type": "code",
   "execution_count": 63,
   "metadata": {
    "trusted": true,
    "_uuid": "7bafd615fcd20e975b797e306dc8aa67a83b7921"
   },
   "outputs": [
    {
     "name": "stdout",
     "output_type": "stream",
     "text": [
      "32069.046575342465\n"
     ]
    }
   ],
   "source": [
    "# Split data into training and validation data\n",
    "from sklearn.model_selection import train_test_split\n",
    "\n",
    "\"\"\"\n",
    "N.B.\n",
    "The split is based on a random number generator. Supplying a numeric value to the random_state argument guarantees we get the same split every time we\n",
    "run this script.\n",
    "\"\"\"\n",
    "\n",
    "# Split for training and validation\n",
    "train_X, val_X, train_y, val_y = train_test_split(X, y, random_state = 0)\n",
    "\n",
    "# Define the model\n",
    "iowa_model = DecisionTreeRegressor()\n",
    "\n",
    "# Fit the model with the training data\n",
    "iowa_model.fit(train_X, train_y)\n",
    "\n",
    "# Make predictions on the validation data\n",
    "val_predictions = iowa_model.predict(val_X)\n",
    "\n",
    "# Calculate and print the mean absolute error\n",
    "from sklearn.metrics import mean_absolute_error\n",
    "\n",
    "print(mean_absolute_error(val_y, val_predictions))"
   ]
  },
  {
   "cell_type": "markdown",
   "metadata": {
    "_uuid": "52f5a49f956a5b7ab4666d371d7b0787339900b3"
   },
   "source": [
    "# Level 1-6: Underfitting, Overfitting and Model Optimization\n\n## Your Turn\n\nIn the near future, you'll be efficient writing functions like `get_mae` yourself. For now, just copy it over to your work area. Then use a for loop that tries different values of `max_leaf_nodes` and calls the `get_mae` function on each to find the ideal number of leaves for your Iowa data.\n\nYou should see that the ideal number of leaves for Iowa data is less than the ideal number of leaves for the Melbourne data. Remember, that a lower MAE is better."
   ]
  },
  {
   "cell_type": "code",
   "execution_count": 64,
   "metadata": {
    "collapsed": true,
    "trusted": true,
    "_uuid": "8b3f19ceb2a452d85d8b2c460f280a296767a117"
   },
   "outputs": [],
   "source": [
    "from sklearn.metrics import mean_absolute_error\n",
    "from sklearn.tree import DecisionTreeRegressor\n",
    "\n",
    "def get_mae(max_leaf_nodes, predictors_train, predictors_val, targ_train, targ_val):\n",
    "    model = DecisionTreeRegressor(max_leaf_nodes=max_leaf_nodes, random_state=0)\n",
    "    model.fit(predictors_train, targ_train)\n",
    "    preds_val = model.predict(predictors_val)\n",
    "    mae = mean_absolute_error(targ_val, preds_val)\n",
    "    return(mae)"
   ]
  },
  {
   "cell_type": "code",
   "execution_count": 65,
   "metadata": {
    "trusted": true,
    "_uuid": "65ef874ec218354deeee634d8cc52146d67cd3cc"
   },
   "outputs": [
    {
     "name": "stdout",
     "output_type": "stream",
     "text": [
      "Max leaf nodes: 5  \t\t Mean Absolute Error:  35190\nMax leaf nodes: 6  \t\t Mean Absolute Error:  33967\nMax leaf nodes: 7  \t\t Mean Absolute Error:  33636\nMax leaf nodes: 8  \t\t Mean Absolute Error:  31908\nMax leaf nodes: 9  \t\t Mean Absolute Error:  31416\nMax leaf nodes: 10  \t\t Mean Absolute Error:  30616\nMax leaf nodes: 11  \t\t Mean Absolute Error:  30166\nMax leaf nodes: 15  \t\t Mean Absolute Error:  29666\nMax leaf nodes: 16  \t\t Mean Absolute Error:  29056\nMax leaf nodes: 17  \t\t Mean Absolute Error:  28914\nMax leaf nodes: 18  \t\t Mean Absolute Error:  28771\nMax leaf nodes: 21  \t\t Mean Absolute Error:  28533\nMax leaf nodes: 22  \t\t Mean Absolute Error:  28462\nMax leaf nodes: 29  \t\t Mean Absolute Error:  28282\nMax leaf nodes: 31  \t\t Mean Absolute Error:  27965\nMax leaf nodes: 32  \t\t Mean Absolute Error:  27852\nMax leaf nodes: 35  \t\t Mean Absolute Error:  27556\nMax leaf nodes: 36  \t\t Mean Absolute Error:  27372\nMax leaf nodes: 77  \t\t Mean Absolute Error:  27344\nMax leaf nodes: 78  \t\t Mean Absolute Error:  27258\nMax leaf nodes: 81  \t\t Mean Absolute Error:  27241\nMax leaf nodes: 82  \t\t Mean Absolute Error:  27203\n"
     ]
    }
   ],
   "source": [
    "best_choice = 100000 #Arbitrarily chosen\n",
    "\n",
    "# compare MAE with differing values of max_leaf_nodes\n",
    "for max_leaf_nodes in range(5, 5000, 1):\n",
    "    my_mae = get_mae(max_leaf_nodes, train_X, val_X, train_y, val_y)\n",
    "    \n",
    "    if my_mae < best_choice:\n",
    "        best_choice = my_mae\n",
    "        print(\"Max leaf nodes: %d  \\t\\t Mean Absolute Error:  %d\" %(max_leaf_nodes, my_mae))"
   ]
  },
  {
   "cell_type": "markdown",
   "metadata": {
    "_uuid": "015e1b3935eeb16acb3a84edb639ea551ebee37d"
   },
   "source": [
    "# Level 1-7: Random Forests\n\n## Your Turn\n\nRun the RandomForestRegressor on your data. You should see a big improvement over your best Decision Tree models."
   ]
  },
  {
   "cell_type": "code",
   "execution_count": 66,
   "metadata": {
    "trusted": true,
    "_uuid": "182c1174c25cce2e8a2bd9322daf8780059b7704"
   },
   "outputs": [
    {
     "name": "stdout",
     "output_type": "stream",
     "text": [
      "23308.836438356167\n"
     ]
    }
   ],
   "source": [
    "from sklearn.ensemble import RandomForestRegressor\n",
    "from sklearn.metrics import mean_absolute_error\n",
    "\n",
    "forest_model = RandomForestRegressor()\n",
    "forest_model.fit(train_X, train_y)\n",
    "iowa_predictions_random_forest = forest_model.predict(val_X)\n",
    "print(mean_absolute_error(val_y, iowa_predictions_random_forest))"
   ]
  },
  {
   "cell_type": "markdown",
   "metadata": {
    "_uuid": "b1f760e658e4d19f9afb1f941924fee9b1066e12"
   },
   "source": [
    "# Level 1-8: Submitting from a Kernel"
   ]
  },
  {
   "cell_type": "code",
   "execution_count": 69,
   "metadata": {
    "trusted": true,
    "_uuid": "aecd8aa4fec039111bd9a921e98a0ecd89f51c2b"
   },
   "outputs": [
    {
     "data": {
      "text/plain": [
       "RandomForestRegressor(bootstrap=True, criterion='mse', max_depth=None,\n           max_features='auto', max_leaf_nodes=None,\n           min_impurity_decrease=0.0, min_impurity_split=None,\n           min_samples_leaf=1, min_samples_split=2,\n           min_weight_fraction_leaf=0.0, n_estimators=10, n_jobs=1,\n           oob_score=False, random_state=None, verbose=0, warm_start=False)"
      ]
     },
     "execution_count": 69,
     "metadata": {},
     "output_type": "execute_result"
    }
   ],
   "source": [
    "import numpy as np\n",
    "import pandas as pd\n",
    "from sklearn.ensemble import RandomForestRegressor\n",
    "\n",
    "# Read the data\n",
    "train = pd.read_csv('../input/train.csv')\n",
    "\n",
    "# pull data into target (y) and predictors (X)\n",
    "train_y = train.SalePrice\n",
    "predictor_cols = ['LotArea', 'OverallQual', 'YearBuilt', 'TotRmsAbvGrd']\n",
    "\n",
    "# Create training predictors data\n",
    "train_X = train[predictor_cols]\n",
    "\n",
    "my_model = RandomForestRegressor()\n",
    "my_model.fit(train_X, train_y)"
   ]
  },
  {
   "cell_type": "code",
   "execution_count": 70,
   "metadata": {
    "trusted": true,
    "_uuid": "e77823f37713f39835207dcb0b86597d202c2f05"
   },
   "outputs": [
    {
     "name": "stdout",
     "output_type": "stream",
     "text": [
      "[129550. 199500. 162180. ... 150390. 184850. 274180.]\n"
     ]
    }
   ],
   "source": [
    "# Read the test data\n",
    "test = pd.read_csv('../input/test.csv')\n",
    "# Treat the test data in the same way as training data. In this case, pull same columns.\n",
    "test_X = test[predictor_cols]\n",
    "# Use the model to make predictions\n",
    "predicted_prices = my_model.predict(test_X)\n",
    "# We will look at the predicted prices to ensure we have something sensible.\n",
    "print(predicted_prices)"
   ]
  },
  {
   "cell_type": "code",
   "execution_count": 71,
   "metadata": {
    "collapsed": true,
    "trusted": true,
    "_uuid": "bbcaf88d694e3c5dd34f62ad1503e9b3d98abcb8"
   },
   "outputs": [],
   "source": [
    "my_submission = pd.DataFrame({'Id': test.Id, 'SalePrice': predicted_prices})\n",
    "# you could use any filename. We choose submission here\n",
    "my_submission.to_csv('submission.csv', index=False)"
   ]
  },
  {
   "cell_type": "code",
   "execution_count": null,
   "metadata": {
    "collapsed": true,
    "trusted": true,
    "_uuid": "f88ce3562b5a63d68526a3b6092f771080a33e36"
   },
   "outputs": [],
   "source": [
    ""
   ]
  }
 ],
 "metadata": {
  "kernelspec": {
   "display_name": "Python 3",
   "language": "python",
   "name": "python3"
  },
  "language_info": {
   "name": "python",
   "version": "3.6.4",
   "mimetype": "text/x-python",
   "codemirror_mode": {
    "name": "ipython",
    "version": 3
   },
   "pygments_lexer": "ipython3",
   "nbconvert_exporter": "python",
   "file_extension": ".py"
  }
 },
 "nbformat": 4,
 "nbformat_minor": 1
}
